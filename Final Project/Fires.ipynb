{
 "cells": [
  {
   "cell_type": "markdown",
   "metadata": {},
   "source": [
    "# Portugal Forest Fire Analysis"
   ]
  },
  {
   "cell_type": "markdown",
   "metadata": {},
   "source": [
    "#### Setup"
   ]
  },
  {
   "cell_type": "code",
   "execution_count": null,
   "metadata": {},
   "outputs": [],
   "source": [
    "%pip install pandas matplotlib numpy scikit-learn seaborn"
   ]
  },
  {
   "cell_type": "markdown",
   "metadata": {},
   "source": [
    "## About the Data.\n",
    "\n",
    "The forestfires.csv data set was found on kaggle.com [link](https://www.kaggle.com/datasets/ishandutta/forest-fires-data-set-portugal/data)\n",
    "\n",
    "The data set contains information about 517 different forest fires in northeastern portugal. The columns are as follows\n",
    "1. X - An X coordinate location of the fire on the Montesohino map\n",
    "1. Y - A Y coordinate for the location of the fires\n",
    "1. Month - the 3 letter month that the fire started on.\n",
    "1. Day - the day of the week that the fire started on.\n",
    "1. FFMC - The Fine Fuel Moisture Code from the Canadian Forest Fire Weather Index (FWI)\n",
    "1. DMC - The Duff Moisture Code from the FWI\n",
    "1. DC - The Drought Code from the FWI\n",
    "1. ISI - The Initial Spread Index from the FWI\n",
    "1. Temp - Temperature In Celsius \n",
    "1. RH - Relative Humidity as a %\n",
    "1. Wind - The wind speed in km/h\n",
    "1. Rain - the amount of rain recorded in mm/m^2\n",
    "1. Area - the area in hectare of the fire."
   ]
  },
  {
   "cell_type": "markdown",
   "metadata": {},
   "source": [
    "#### Import Data"
   ]
  },
  {
   "cell_type": "code",
   "execution_count": 2,
   "metadata": {},
   "outputs": [],
   "source": [
    "import pandas as pd\n",
    "import numpy as np\n",
    "path_to_data = 'forestfires.csv'\n",
    "fire_data = pd.read_csv(path_to_data)"
   ]
  },
  {
   "cell_type": "markdown",
   "metadata": {},
   "source": [
    "#### Clean data"
   ]
  },
  {
   "cell_type": "code",
   "execution_count": null,
   "metadata": {},
   "outputs": [],
   "source": [
    "#Columnwise data types, null count, and na count"
   ]
  },
  {
   "cell_type": "code",
   "execution_count": 3,
   "metadata": {},
   "outputs": [
    {
     "name": "stdout",
     "output_type": "stream",
     "text": [
      "Dtypes: X          int64\n",
      "Y          int64\n",
      "month     object\n",
      "day       object\n",
      "FFMC     float64\n",
      "DMC      float64\n",
      "DC       float64\n",
      "ISI      float64\n",
      "temp     float64\n",
      "RH         int64\n",
      "wind     float64\n",
      "rain     float64\n",
      "area     float64\n",
      "dtype: object\n",
      "************************************\n",
      "Null Count: X        0\n",
      "Y        0\n",
      "month    0\n",
      "day      0\n",
      "FFMC     0\n",
      "DMC      0\n",
      "DC       0\n",
      "ISI      0\n",
      "temp     0\n",
      "RH       0\n",
      "wind     0\n",
      "rain     0\n",
      "area     0\n",
      "dtype: int64\n",
      "************************************\n",
      "NA Count: X        0\n",
      "Y        0\n",
      "month    0\n",
      "day      0\n",
      "FFMC     0\n",
      "DMC      0\n",
      "DC       0\n",
      "ISI      0\n",
      "temp     0\n",
      "RH       0\n",
      "wind     0\n",
      "rain     0\n",
      "area     0\n",
      "dtype: int64\n"
     ]
    }
   ],
   "source": [
    "print('Dtypes:', fire_data.dtypes)\n",
    "print('************************************')\n",
    "print('Null Count:',fire_data.isnull().sum())\n",
    "print('************************************')\n",
    "print('NA Count:', fire_data.isna().sum())"
   ]
  },
  {
   "cell_type": "markdown",
   "metadata": {},
   "source": [
    "#### Feature Engineering"
   ]
  },
  {
   "cell_type": "code",
   "execution_count": null,
   "metadata": {},
   "outputs": [],
   "source": [
    "#Column to hold area of the fire"
   ]
  },
  {
   "cell_type": "code",
   "execution_count": null,
   "metadata": {},
   "outputs": [],
   "source": []
  }
 ],
 "metadata": {
  "kernelspec": {
   "display_name": ".venv",
   "language": "python",
   "name": "python3"
  },
  "language_info": {
   "codemirror_mode": {
    "name": "ipython",
    "version": 3
   },
   "file_extension": ".py",
   "mimetype": "text/x-python",
   "name": "python",
   "nbconvert_exporter": "python",
   "pygments_lexer": "ipython3",
   "version": "3.11.9"
  }
 },
 "nbformat": 4,
 "nbformat_minor": 2
}
